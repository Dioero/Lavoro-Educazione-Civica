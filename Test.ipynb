{
 "cells": [
  {
   "cell_type": "markdown",
   "id": "171a64de",
   "metadata": {},
   "source": [
    "# test"
   ]
  },
  {
   "cell_type": "code",
   "execution_count": null,
   "id": "a4dd2598",
   "metadata": {},
   "outputs": [],
   "source": [
    "contatore=0\n",
    "R1=input(\"come si chiamava l'imperatore che avvio la cosruzione delle terme di caracalla?\")\n",
    "if R1== Lucio Settimo Bassiano:\n",
    "    contatore=contatore+1\n"
   ]
  }
 ],
 "metadata": {
  "hide_input": false,
  "kernelspec": {
   "display_name": "Python 3 (ipykernel)",
   "language": "python",
   "name": "python3"
  },
  "language_info": {
   "codemirror_mode": {
    "name": "ipython",
    "version": 3
   },
   "file_extension": ".py",
   "mimetype": "text/x-python",
   "name": "python",
   "nbconvert_exporter": "python",
   "pygments_lexer": "ipython3",
   "version": "3.10.2"
  }
 },
 "nbformat": 4,
 "nbformat_minor": 5
}

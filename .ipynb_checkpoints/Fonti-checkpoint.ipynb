{
 "cells": [
  {
   "cell_type": "markdown",
   "id": "81977010",
   "metadata": {},
   "source": [
    "## Fonti"
   ]
  },
  {
   "cell_type": "markdown",
   "id": "d23277b2",
   "metadata": {},
   "source": [
    "Libro “CAPIRE L’ARTE 1”, Atlas, pagine: 246/302/303\n",
    "Libro “CHIAVE DI VOLTA 1”, Loescher Editore\n",
    "https://www.fotoeweb.it/roma/Caracalla/Roma%20Terme%20di%20Caracalla%20ricostruzione.jpg\n",
    "https://www.capitolivm.it/wp-content/uploads/2017/01/caementicum-300x278-1.jpg\n",
    "https://www.ia-ostiaantica.org/news/wp-content/uploads/2015/02/caracalla-mosaico.jpg \n",
    "https://www.ilpuntoquotidiano.it/wp-content/uploads/2019/07/Ercole-Farnese-160x300.jpg "
   ]
  }
 ],
 "metadata": {
  "kernelspec": {
   "display_name": "Python 3 (ipykernel)",
   "language": "python",
   "name": "python3"
  },
  "language_info": {
   "codemirror_mode": {
    "name": "ipython",
    "version": 3
   },
   "file_extension": ".py",
   "mimetype": "text/x-python",
   "name": "python",
   "nbconvert_exporter": "python",
   "pygments_lexer": "ipython3",
   "version": "3.10.0"
  }
 },
 "nbformat": 4,
 "nbformat_minor": 5
}

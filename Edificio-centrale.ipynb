{
 "cells": [
  {
   "cell_type": "markdown",
   "id": "e4169f0e",
   "metadata": {},
   "source": [
    "### Edificio Centrale"
   ]
  },
  {
   "cell_type": "markdown",
   "id": "9203f9e5",
   "metadata": {},
   "source": [
    "1. [Natatio](Natatio.ipynb)\n",
    "2. [Calidarium](Calidarium.ipynb) \n",
    "3. Tepidarium (vasche interne e coperte dotata di acqua tiepida, tappa centrale tra calidarium e frigidarium )\n",
    "4. Figidarium (piscina interna coperta dotata di acqua fredda, era l'ultima tappa nel percorso termale prima della palestra)\n",
    "5. Apodytèrium (spogliatoi)\n",
    "6. Palestra "
   ]
  }
 ],
 "metadata": {
  "hide_input": false,
  "kernelspec": {
   "display_name": "Python 3 (ipykernel)",
   "language": "python",
   "name": "python3"
  },
  "language_info": {
   "codemirror_mode": {
    "name": "ipython",
    "version": 3
   },
   "file_extension": ".py",
   "mimetype": "text/x-python",
   "name": "python",
   "nbconvert_exporter": "python",
   "pygments_lexer": "ipython3",
   "version": "3.10.2"
  }
 },
 "nbformat": 4,
 "nbformat_minor": 5
}
